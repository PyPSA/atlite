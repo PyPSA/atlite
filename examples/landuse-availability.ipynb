{
 "cells": [
  {
   "cell_type": "markdown",
   "metadata": {},
   "source": [
    "# Calculate Landuse Availabilities\n",
    "\n",
    "This example shows how `atlite` can deal with landuse restrictions. For the demonstration the effective availability per weather cell is calculated while excluding areas specified by the CORINE CLC raster.  "
   ]
  },
  {
   "cell_type": "code",
   "execution_count": null,
   "metadata": {},
   "outputs": [],
   "source": [
    "import geopandas as gpd\n",
    "import matplotlib.pyplot as plt\n",
    "import xarray as xr\n",
    "\n",
    "import atlite\n",
    "from atlite.gis import ExclusionContainer"
   ]
  },
  {
   "cell_type": "markdown",
   "metadata": {},
   "source": [
    "With `geopandas` we retrieve the geographic shapes for 5 countries on the Balkan Peninsula, namely Serbia, Croatia, Macedonia, Bosnia & Herzegovina and Montenegro. "
   ]
  },
  {
   "cell_type": "code",
   "execution_count": null,
   "metadata": {},
   "outputs": [],
   "source": [
    "world = gpd.read_file(gpd.datasets.get_path(\"naturalearth_lowres\"))\n",
    "countries = [\"Serbia\", \"Croatia\", \"Bosnia and Herz.\", \"Montenegro\"]\n",
    "shapes = world[world.name.isin(countries)].set_index(\"name\")\n",
    "shapes.plot(figsize=(10, 7));"
   ]
  },
  {
   "cell_type": "markdown",
   "metadata": {},
   "source": [
    "We create an `atlite.Cutout` which covers the whole regions and builds the backbone for our analysis. Later, it will enable to retrieve the needed weather data. "
   ]
  },
  {
   "cell_type": "code",
   "execution_count": null,
   "metadata": {},
   "outputs": [],
   "source": [
    "bounds = shapes.cascaded_union.buffer(1).bounds\n",
    "cutout = atlite.Cutout(\n",
    "    \"balkans\", module=\"era5\", bounds=bounds, time=slice(\"2013-01-01\", \"2013-01-02\")\n",
    ")"
   ]
  },
  {
   "cell_type": "markdown",
   "metadata": {},
   "source": [
    "Let's see how the grid cells and the regional shapes overlap. "
   ]
  },
  {
   "cell_type": "code",
   "execution_count": null,
   "metadata": {},
   "outputs": [],
   "source": [
    "plt.rc(\"figure\", figsize=[10, 7])\n",
    "fig, ax = plt.subplots()\n",
    "shapes.plot(ax=ax)\n",
    "cutout.grid.plot(ax=ax, edgecolor=\"grey\", color=\"None\")"
   ]
  },
  {
   "cell_type": "markdown",
   "metadata": {},
   "source": [
    "The [CORINE Land Cover (CLC)](https://land.copernicus.eu/pan-european/corine-land-cover) database provides a 100 m x 100 m raster which, for each raster cell, indicates the type of landuse (forest, urban, industrial). In total there are 44 classes. Download the raster (.tif file) from the [download page](https://land.copernicus.eu/pan-european/corine-land-cover/clc2018?tab=download) and store the raster as `corine.tif`. \n",
    "\n",
    "For calculating the availability per cutout weather cells, an `ExclusionContainer` must be defined beforehand. It serves as a container for all rasters and geometries we want to exclude (or possibly include). \n",
    "\n",
    "In many cases, rasters and geometries have different projections and resolutions. Therefore, the `ExclusionContainer` is initialized by a CRS and a resolution which suits as a basis for all added rasters and geometries. Per default the CRS is 3035 and the resoultion 100, which leads set a raster of 100 meter resolution. All rasters and geometries will be converted to this `(crs, res)` config if they don't match it. \n",
    "\n",
    "When adding a raster to the `ExclusionContainer` you can specify which codes (integers) to exclude. \n",
    "By setting `invert=True`, you can also restrict the **inclusion** to a set of codes. Further you can buffer around codes (see the docs for detail). Here we are going to exclude the first twenty landuse codes. "
   ]
  },
  {
   "cell_type": "code",
   "execution_count": null,
   "metadata": {},
   "outputs": [],
   "source": [
    "CORINE = \"corine.tif\"\n",
    "excluder = ExclusionContainer()\n",
    "excluder.add_raster(CORINE, codes=range(20))"
   ]
  },
  {
   "cell_type": "markdown",
   "metadata": {},
   "source": [
    "For the demonstration we want to see how the landuse availability behaves within one specific shape, e.g. Croatia. \n",
    "\n",
    "Note that, since the excluder is in `crs=3035`, we convert to geometry of Croatia to `excluder.crs` for plotting it..."
   ]
  },
  {
   "cell_type": "code",
   "execution_count": null,
   "metadata": {},
   "outputs": [],
   "source": [
    "croatia = shapes.loc[[\"Croatia\"]].geometry.to_crs(excluder.crs)"
   ]
  },
  {
   "cell_type": "markdown",
   "metadata": {},
   "source": [
    "...and use the `shape_availability` function of `atlite` to calculate a mask for the `ExclusionContainer` excluder. "
   ]
  },
  {
   "cell_type": "code",
   "execution_count": null,
   "metadata": {},
   "outputs": [],
   "source": [
    "masked, transform = excluder.compute_shape_availability(croatia)"
   ]
  },
  {
   "cell_type": "markdown",
   "metadata": {},
   "source": [
    "The `masked` object is a numpy array. Eligile raster cells have a 1 and excluded cells a 0. Note that this data still lives in the projection of `excluder`. For calculating the eligible share we can use the following routine. "
   ]
  },
  {
   "cell_type": "code",
   "execution_count": null,
   "metadata": {},
   "outputs": [],
   "source": [
    "eligible_share = masked.sum() * excluder.res**2 / croatia.geometry.item().area\n",
    "print(f\"The eligibility share is: {eligible_share:.2%}\")"
   ]
  },
  {
   "cell_type": "markdown",
   "metadata": {},
   "source": [
    "For plotting the geometry together with the excluded areas, we can use the function `plot_shape_availability` which uses `rasterio`'s and `geopandas`' plot function in the background. "
   ]
  },
  {
   "cell_type": "code",
   "execution_count": null,
   "metadata": {
    "scrolled": false
   },
   "outputs": [],
   "source": [
    "fig, ax = plt.subplots()\n",
    "excluder.plot_shape_availability(croatia)"
   ]
  },
  {
   "cell_type": "markdown",
   "metadata": {},
   "source": [
    "How does is look when we add our cutout grid to the plot? How do the weather cells intersect with the available area? "
   ]
  },
  {
   "cell_type": "code",
   "execution_count": null,
   "metadata": {},
   "outputs": [],
   "source": [
    "fig, ax = plt.subplots()\n",
    "excluder.plot_shape_availability(croatia, ax=ax)\n",
    "cutout.grid.to_crs(excluder.crs).plot(edgecolor=\"grey\", color=\"None\", ax=ax, ls=\":\")\n",
    "ax.set_title(f\"Eligible area (green) {eligible_share:.2%}\")\n",
    "ax.axis(\"off\");"
   ]
  },
  {
   "cell_type": "markdown",
   "metadata": {},
   "source": [
    "We see that the weather cells are much larger than the raster cells. `GDAL` provides a fast reprojection function for averaging fine-grained to coarse-grained rasters. `Atlite` automates this calculation for all geometries in `shapes` when calling the `cutout.availabilitymatrix` function. Let's see how this function performs. (Note that the steps before are not necessary for this calculation.)\n",
    "\n",
    "**INFO**: *For large sets of shapes set nprocesses to a number > 1 for parallelization.*"
   ]
  },
  {
   "cell_type": "code",
   "execution_count": null,
   "metadata": {},
   "outputs": [],
   "source": [
    "A = cutout.availabilitymatrix(shapes, excluder)\n",
    "A"
   ]
  },
  {
   "cell_type": "markdown",
   "metadata": {},
   "source": [
    "`A` is an DataArray with 3 dimensions (`shape`, `x`, `y`) and very sparse data. It indicates the relative overlap of weather cell `(x, y)` with geometry `shape` while excluding the area specified by the `excluder`. \n",
    "\n",
    "How does the availability look for our example of Croatia?"
   ]
  },
  {
   "cell_type": "code",
   "execution_count": null,
   "metadata": {},
   "outputs": [],
   "source": [
    "fig, ax = plt.subplots()\n",
    "A.sel(name=\"Croatia\").plot(cmap=\"Greens\")\n",
    "shapes.loc[[\"Croatia\"]].plot(ax=ax, edgecolor=\"k\", color=\"None\")\n",
    "cutout.grid.plot(ax=ax, color=\"None\", edgecolor=\"grey\", ls=\":\")"
   ]
  },
  {
   "cell_type": "markdown",
   "metadata": {},
   "source": [
    "Note that now the projection is in `cutout.crs`. In the north-west, where most of the areas were excluded, the availability is lower than 0.5. That means less than the half of these weather cells and their potentials can be exploited. \n",
    "\n",
    "And for the other shapes..."
   ]
  },
  {
   "cell_type": "code",
   "execution_count": null,
   "metadata": {},
   "outputs": [],
   "source": [
    "fg = A.plot(row=\"name\", col_wrap=3, cmap=\"Greens\")\n",
    "fg.set_titles(\"{value}\")\n",
    "for i, c in enumerate(shapes.index):\n",
    "    shapes.loc[[c]].plot(ax=fg.axs.flatten()[i], edgecolor=\"k\", color=\"None\")"
   ]
  },
  {
   "cell_type": "markdown",
   "metadata": {},
   "source": [
    "The availibility matrix `A` can now be used as a layoutmatrix in the conversion functions of `atlite`, i.e. `cutout.pv`, `cutout.wind`. The normal approach would be to weigh the availabilities with the area per grid cell and the capacity per area."
   ]
  },
  {
   "cell_type": "code",
   "execution_count": null,
   "metadata": {},
   "outputs": [],
   "source": [
    "cap_per_sqkm = 1.7\n",
    "area = cutout.grid.set_index([\"y\", \"x\"]).to_crs(3035).area / 1e6\n",
    "area = xr.DataArray(area, dims=(\"spatial\"))\n",
    "\n",
    "capacity_matrix = A.stack(spatial=[\"y\", \"x\"]) * area * cap_per_sqkm"
   ]
  },
  {
   "cell_type": "markdown",
   "metadata": {},
   "source": [
    "After the cutout preparation, we can calculate the static and dynamic capacity factors of each region. "
   ]
  },
  {
   "cell_type": "code",
   "execution_count": null,
   "metadata": {},
   "outputs": [],
   "source": [
    "cutout.prepare()\n",
    "pv = cutout.pv(\n",
    "    matrix=capacity_matrix,\n",
    "    panel=atlite.solarpanels.CdTe,\n",
    "    orientation=\"latitude_optimal\",\n",
    "    index=shapes.index,\n",
    ")"
   ]
  },
  {
   "cell_type": "markdown",
   "metadata": {},
   "source": [
    "Finally let's see how the total power potential per region look. "
   ]
  },
  {
   "cell_type": "code",
   "execution_count": null,
   "metadata": {},
   "outputs": [],
   "source": [
    "pv.to_pandas().div(1e3).plot(ylabel=\"Solar Power [GW]\", ls=\"--\", figsize=(10, 4));"
   ]
  }
 ],
 "metadata": {
  "@webio": {
   "lastCommId": null,
   "lastKernelId": null
  },
  "kernelspec": {
   "display_name": "",
   "language": "python",
   "name": ""
  },
  "language_info": {
   "codemirror_mode": {
    "name": "ipython",
    "version": 3
   },
   "file_extension": ".py",
   "mimetype": "text/x-python",
   "name": "python",
   "nbconvert_exporter": "python",
   "pygments_lexer": "ipython3",
   "version": "3.10.9"
  }
 },
 "nbformat": 4,
 "nbformat_minor": 4
}

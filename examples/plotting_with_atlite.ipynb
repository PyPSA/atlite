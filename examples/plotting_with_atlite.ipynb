{
 "cells": [
  {
   "cell_type": "markdown",
   "metadata": {},
   "source": [
    "# Plotting with atlite\n",
    "\n",
    "This little notebook creates all the plots given in the introduction section. Geographical plotting with atlite can be efficiently and straightfowardly done when relying on some well maintained python packages. In particular a good rule of thumb is following. When it comes to \n",
    "\n",
    "* **projections and transformation** &rightarrow; ask [Cartopy](https://pypi.org/project/Cartopy/)\n",
    "* **plotting shapes** &rightarrow; ask [GeoPandas](http://geopandas.org/)\n",
    "* **plotting data on geographical grids** or **time series** &rightarrow; ask [xarray](http://xarray.pydata.org/en/stable/)\n",
    "\n",
    "Since they interact well together, one has just to consider some essential commands. \n",
    "So, let's dive into the code!\n",
    "\n",
    "First of all import all relevant packages "
   ]
  },
  {
   "cell_type": "code",
   "execution_count": null,
   "metadata": {},
   "outputs": [],
   "source": [
    "import logging\n",
    "import warnings\n",
    "\n",
    "import cartopy.crs as ccrs\n",
    "import cartopy.io.shapereader as shpreader\n",
    "import geopandas as gpd\n",
    "import matplotlib.pyplot as plt\n",
    "import pandas as pd\n",
    "import xarray as xr\n",
    "from cartopy.crs import PlateCarree as plate\n",
    "from matplotlib.gridspec import GridSpec\n",
    "from pandas.plotting import register_matplotlib_converters\n",
    "\n",
    "import atlite\n",
    "\n",
    "register_matplotlib_converters()\n",
    "warnings.simplefilter(\"ignore\")\n",
    "logging.captureWarnings(False)\n",
    "logging.basicConfig(level=logging.INFO)"
   ]
  },
  {
   "cell_type": "markdown",
   "metadata": {},
   "source": [
    "*Note: `geopandas` will also require the `descartes` package to be installed.*"
   ]
  },
  {
   "cell_type": "markdown",
   "metadata": {},
   "source": [
    "## Create shapes for United Kingdom and Ireland\n",
    "\n",
    "* use the shapereader of Cartopy to retrieve high resoluted shapes\n",
    "* make a GeoSeries with the shapes"
   ]
  },
  {
   "cell_type": "code",
   "execution_count": null,
   "metadata": {},
   "outputs": [],
   "source": [
    "shpfilename = shpreader.natural_earth(\n",
    "    resolution=\"10m\", category=\"cultural\", name=\"admin_0_countries\"\n",
    ")\n",
    "reader = shpreader.Reader(shpfilename)\n",
    "UkIr = gpd.GeoSeries(\n",
    "    {r.attributes[\"NAME_EN\"]: r.geometry for r in reader.records()},\n",
    "    crs={\"init\": \"epsg:4326\"},\n",
    ").reindex([\"United Kingdom\", \"Ireland\"])"
   ]
  },
  {
   "cell_type": "markdown",
   "metadata": {},
   "source": [
    "## Create the cutout\n",
    "\n",
    "* create a cutout with geographical bounds of the shapes\n",
    "\n",
    "Here we use the data from ERA5 from UK and Ireland in January of 2011."
   ]
  },
  {
   "cell_type": "code",
   "execution_count": null,
   "metadata": {
    "scrolled": true
   },
   "outputs": [],
   "source": [
    "# Define the cutout; this will not yet trigger any major operations\n",
    "cutout = atlite.Cutout(\n",
    "    path=\"uk-2011-01\", module=\"era5\", bounds=UkIr.unary_union.bounds, time=\"2011-01\"\n",
    ")\n",
    "\n",
    "# This is where all the work happens (this can take some time, for us it took ~15 minutes).\n",
    "cutout.prepare()"
   ]
  },
  {
   "cell_type": "markdown",
   "metadata": {},
   "source": [
    "## Define a overall projection \n",
    "\n",
    "This projection will be used throughout the following plots.\n",
    "It has to be assigned to every axis that should be based on this projection"
   ]
  },
  {
   "cell_type": "code",
   "execution_count": null,
   "metadata": {},
   "outputs": [],
   "source": [
    "projection = ccrs.Orthographic(-10, 35)"
   ]
  },
  {
   "cell_type": "markdown",
   "metadata": {},
   "source": [
    "## Plotting"
   ]
  },
  {
   "cell_type": "markdown",
   "metadata": {},
   "source": [
    "### Plot Earth with cutout bound\n",
    "* create GeoSeries with cell relevant data\n",
    "* plot 'naturalearth_lowres' (country shapes) with unary union of cells on top"
   ]
  },
  {
   "cell_type": "code",
   "execution_count": null,
   "metadata": {},
   "outputs": [],
   "source": [
    "cells = cutout.grid\n",
    "df = gpd.read_file(gpd.datasets.get_path(\"naturalearth_lowres\"))\n",
    "country_bound = gpd.GeoSeries(cells.unary_union)\n",
    "\n",
    "projection = ccrs.Orthographic(-10, 35)\n",
    "fig, ax = plt.subplots(subplot_kw={\"projection\": projection}, figsize=(6, 6))\n",
    "df.plot(ax=ax, transform=plate())\n",
    "country_bound.plot(ax=ax, edgecolor=\"orange\", facecolor=\"None\", transform=plate())\n",
    "fig.tight_layout()"
   ]
  },
  {
   "cell_type": "markdown",
   "metadata": {},
   "source": [
    "### Plot the cutout's raw data\n",
    "* create matplotlib [GridSpec](https://matplotlib.org/3.1.1/api/_as_gen/matplotlib.gridspec.GridSpec.html#matplotlib.gridspec.GridSpec)\n",
    "* country shapes and cells on left hand side\n",
    "* time series for `wind100m`, `influx_direct`, `runoff` on right hand side"
   ]
  },
  {
   "cell_type": "code",
   "execution_count": null,
   "metadata": {},
   "outputs": [],
   "source": [
    "fig = plt.figure(figsize=(12, 7))\n",
    "gs = GridSpec(3, 3, figure=fig)\n",
    "\n",
    "ax = fig.add_subplot(gs[:, 0:2], projection=projection)\n",
    "plot_grid_dict = dict(\n",
    "    alpha=0.1,\n",
    "    edgecolor=\"k\",\n",
    "    zorder=4,\n",
    "    aspect=\"equal\",\n",
    "    facecolor=\"None\",\n",
    "    transform=plate(),\n",
    ")\n",
    "UkIr.plot(ax=ax, zorder=1, transform=plate())\n",
    "cells.plot(ax=ax, **plot_grid_dict)\n",
    "country_bound.plot(ax=ax, edgecolor=\"orange\", facecolor=\"None\", transform=plate())\n",
    "ax.outline_patch.set_edgecolor(\"white\")\n",
    "\n",
    "ax1 = fig.add_subplot(gs[0, 2])\n",
    "cutout.data.wnd100m.mean([\"x\", \"y\"]).plot(ax=ax1)\n",
    "ax1.set_frame_on(False)\n",
    "ax1.xaxis.set_visible(False)\n",
    "\n",
    "ax2 = fig.add_subplot(gs[1, 2], sharex=ax1)\n",
    "cutout.data.influx_direct.mean([\"x\", \"y\"]).plot(ax=ax2)\n",
    "ax2.set_frame_on(False)\n",
    "ax2.xaxis.set_visible(False)\n",
    "\n",
    "ax3 = fig.add_subplot(gs[2, 2], sharex=ax1)\n",
    "cutout.data.runoff.mean([\"x\", \"y\"]).plot(ax=ax3)\n",
    "ax3.set_frame_on(False)\n",
    "ax3.set_xlabel(None)\n",
    "fig.tight_layout()"
   ]
  },
  {
   "cell_type": "markdown",
   "metadata": {},
   "source": [
    "### Plot capacity factors\n",
    "\n",
    "* calculate the mean capacity factors for each cell for a selected turbine (e.g. Vestas V112 3MW)\n",
    "* use xarray plotting function to directly plot data\n",
    "* plot cells GeoSeries on top"
   ]
  },
  {
   "cell_type": "code",
   "execution_count": null,
   "metadata": {
    "scrolled": false
   },
   "outputs": [],
   "source": [
    "cap_factors = cutout.wind(turbine=\"Vestas_V112_3MW\", capacity_factor=True)\n",
    "\n",
    "fig, ax = plt.subplots(subplot_kw={\"projection\": projection}, figsize=(9, 7))\n",
    "cap_factors.name = \"Capacity Factor\"\n",
    "cap_factors.plot(ax=ax, transform=plate(), alpha=0.8)\n",
    "cells.plot(ax=ax, **plot_grid_dict)\n",
    "ax.outline_patch.set_edgecolor(\"white\")\n",
    "fig.tight_layout();"
   ]
  },
  {
   "cell_type": "markdown",
   "metadata": {},
   "source": [
    "### Plot power generation for selected areas\n",
    "\n",
    "* First define a capacity layout, defining on which sites to install how much turbine capacity\n",
    "* Generate the power generation time series for the selected sites"
   ]
  },
  {
   "cell_type": "code",
   "execution_count": null,
   "metadata": {},
   "outputs": [],
   "source": [
    "sites = gpd.GeoDataFrame(\n",
    "    [\n",
    "        [\"london\", 0.7, 51.3, 20],\n",
    "        [\"dublin\", -6.16, 53.21, 30],\n",
    "        [\"edinburgh\", -3.13, 55.5, 10],\n",
    "    ],\n",
    "    columns=[\"name\", \"x\", \"y\", \"capacity\"],\n",
    ").set_index(\"name\")\n",
    "\n",
    "nearest = cutout.data.sel({\"x\": sites.x.values, \"y\": sites.y.values}, \"nearest\").coords\n",
    "sites[\"x\"] = nearest.get(\"x\").values\n",
    "sites[\"y\"] = nearest.get(\"y\").values\n",
    "cells_generation = sites.merge(cells, how=\"inner\").rename(pd.Series(sites.index))\n",
    "\n",
    "layout = (\n",
    "    xr.DataArray(cells_generation.set_index([\"y\", \"x\"]).capacity.unstack())\n",
    "    .reindex_like(cap_factors)\n",
    "    .rename(\"Installed Capacity [MW]\")\n",
    ")\n",
    "\n",
    "fig, ax = plt.subplots(subplot_kw={\"projection\": projection}, figsize=(9, 7))\n",
    "\n",
    "UkIr.plot(ax=ax, zorder=1, transform=plate(), alpha=0.3)\n",
    "cells.plot(ax=ax, **plot_grid_dict)\n",
    "layout.plot(\n",
    "    ax=ax, transform=plate(), cmap=\"Reds\", vmin=0, label=\"Installed Capacity [MW]\"\n",
    ")\n",
    "ax.outline_patch.set_edgecolor(\"white\")\n",
    "fig.tight_layout()\n",
    "\n",
    "fig, axes = plt.subplots(len(sites), sharex=True, figsize=(9, 4))\n",
    "power_generation = cutout.wind(\n",
    "    \"Vestas_V112_3MW\", layout=layout, shapes=cells_generation.geometry\n",
    ")\n",
    "\n",
    "power_generation.to_pandas().plot(subplots=True, ax=axes)\n",
    "axes[2].set_xlabel(\"date\")\n",
    "axes[1].set_ylabel(\"Generation [MW]\")\n",
    "fig.tight_layout()"
   ]
  },
  {
   "cell_type": "markdown",
   "metadata": {},
   "source": [
    "### Aggregate power generation per country shape"
   ]
  },
  {
   "cell_type": "code",
   "execution_count": null,
   "metadata": {},
   "outputs": [],
   "source": [
    "from shapely.geometry import Point\n",
    "\n",
    "fig = plt.figure(figsize=(12, 7))\n",
    "gs = GridSpec(3, 3, figure=fig)\n",
    "\n",
    "ax = fig.add_subplot(gs[:, 0:2], projection=projection)\n",
    "df = gpd.GeoDataFrame(UkIr, columns=[\"geometry\"]).assign(color=[\"1\", \"2\"])\n",
    "df.plot(column=\"color\", ax=ax, zorder=1, transform=plate(), alpha=0.6)\n",
    "\n",
    "sites.assign(geometry=sites.apply(lambda ds: Point(ds.x, ds.y), axis=1)).plot(\n",
    "    ax=ax, zorder=2, transform=plate(), color=\"indianred\"\n",
    ")\n",
    "\n",
    "ax.outline_patch.set_edgecolor(\"white\")\n",
    "\n",
    "power_generation = (\n",
    "    cutout.wind(\"Vestas_V112_3MW\", layout=layout.fillna(0), shapes=UkIr)\n",
    "    .to_pandas()\n",
    "    .rename_axis(index=\"\", columns=\"shapes\")\n",
    ")\n",
    "\n",
    "ax1 = fig.add_subplot(gs[1, 2])\n",
    "power_generation[\"Ireland\"].plot.area(ax=ax1, title=\"Ireland\", color=\"indianred\")\n",
    "ax2 = fig.add_subplot(gs[2, 2])\n",
    "power_generation[\"United Kingdom\"].plot.area(\n",
    "    ax=ax2, title=\"United Kingdom\", color=\"darkgreen\"\n",
    ")\n",
    "\n",
    "ax2.set_xlabel(\"date\")\n",
    "[ax.set_ylabel(\"Generation [MW]\") for ax in [ax1, ax2]]\n",
    "\n",
    "fig.tight_layout()"
   ]
  },
  {
   "cell_type": "markdown",
   "metadata": {},
   "source": [
    "### Plot indicator matrix\n",
    "\n",
    "* use [seaborn heatmap](https://seaborn.pydata.org/generated/seaborn.heatmap.html) for plotting the indicator matrix of the United Kingdom shape\n",
    "\n",
    "This indicator matrix is used to tell atlite, which cells in the cutout represent the land area of the UK."
   ]
  },
  {
   "cell_type": "code",
   "execution_count": null,
   "metadata": {},
   "outputs": [],
   "source": [
    "fig, ax = plt.subplots(figsize=(7, 7))\n",
    "indicator_matrix_ir = cutout.indicatormatrix(UkIr)[0]\n",
    "\n",
    "indicator_matrix_ir = xr.DataArray(\n",
    "    indicator_matrix_ir.toarray().reshape(cutout.shape),\n",
    "    dims=[\"lat\", \"lon\"],\n",
    "    coords=[cutout.coords[\"lat\"], cutout.coords[\"lon\"]],\n",
    ")\n",
    "indicator_matrix_ir.plot(cmap=\"Greens\", ax=ax)"
   ]
  }
 ],
 "metadata": {
  "@webio": {
   "lastCommId": null,
   "lastKernelId": null
  },
  "kernelspec": {
   "display_name": "",
   "language": "python",
   "name": ""
  },
  "language_info": {
   "codemirror_mode": {
    "name": "ipython",
    "version": 3
   },
   "file_extension": ".py",
   "mimetype": "text/x-python",
   "name": "python",
   "nbconvert_exporter": "python",
   "pygments_lexer": "ipython3",
   "version": "3.8.5"
  }
 },
 "nbformat": 4,
 "nbformat_minor": 4
}

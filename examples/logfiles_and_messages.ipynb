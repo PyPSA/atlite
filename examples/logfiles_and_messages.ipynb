{
 "cells": [
  {
   "cell_type": "markdown",
   "metadata": {},
   "source": [
    "# Logfiles and messages\n",
    "\n",
    "Atlite uses the `logging` [library](https://docs.python.org/3/howto/logging.html) for displaying\n",
    "messages with different purposes."
   ]
  },
  {
   "cell_type": "markdown",
   "metadata": {},
   "source": [
    "## Minimum information\n",
    "\n",
    "We recommend that you always use logging when using atlite with information messages enabled.\n",
    "\n",
    "The simplest way is to"
   ]
  },
  {
   "cell_type": "code",
   "execution_count": null,
   "metadata": {},
   "outputs": [],
   "source": [
    "import logging\n",
    "\n",
    "logging.basicConfig(level=logging.INFO)"
   ]
  },
  {
   "cell_type": "markdown",
   "metadata": {},
   "source": [
    "This will prompt messagges with the priority level of \"information\"."
   ]
  },
  {
   "cell_type": "markdown",
   "metadata": {},
   "source": [
    "## Our recommendation"
   ]
  },
  {
   "cell_type": "code",
   "execution_count": null,
   "metadata": {},
   "outputs": [],
   "source": [
    "import warnings\n",
    "import logging\n",
    "\n",
    "warnings.simplefilter(\"default\", DeprecationWarning)\n",
    "logging.captureWarnings(True)\n",
    "logging.basicConfig(level=logging.INFO)"
   ]
  },
  {
   "cell_type": "markdown",
   "metadata": {},
   "source": [
    "## Maximum information (aka 'Information overload')\n",
    "\n",
    "This configuration will nag you about nearly everything there is\n",
    "every time.\n",
    "Use it for debugging."
   ]
  },
  {
   "cell_type": "code",
   "execution_count": null,
   "metadata": {},
   "outputs": [],
   "source": [
    "import warnings\n",
    "import logging\n",
    "\n",
    "warnings.simplefilter(\"always\", DeprecationWarning)\n",
    "logging.captureWarnings(True)\n",
    "logging.basicConfig(level=logging.DEBUG)"
   ]
  },
  {
   "cell_type": "markdown",
   "metadata": {},
   "source": [
    "## Adjusting the level of detail/verbosity\n",
    "\n",
    "Usually recieving information messages is enough verbosity, i.e."
   ]
  },
  {
   "cell_type": "code",
   "execution_count": null,
   "metadata": {},
   "outputs": [],
   "source": [
    "logging.basicConfig(level=logging.INFO)"
   ]
  },
  {
   "cell_type": "markdown",
   "metadata": {},
   "source": [
    "When debugging your programm you might want to recieve more\n",
    "detailed information on what is going on and include further debugging messages.\n",
    "To do so:"
   ]
  },
  {
   "cell_type": "code",
   "execution_count": null,
   "metadata": {},
   "outputs": [],
   "source": [
    "logging.basicConfig(level=logging.DEBUG)"
   ]
  },
  {
   "cell_type": "markdown",
   "metadata": {},
   "source": [
    "## Creating logfiles"
   ]
  },
  {
   "cell_type": "markdown",
   "metadata": {},
   "source": [
    "When running automated scripts or for documentation purposes, you might want\n",
    "to redirect and save the logging output in a log file.\n",
    "To do so, simply add the `filename` argument to your `basicConfig` call as shown\n",
    "below and substite `example.log` for your preferred logfile name"
   ]
  },
  {
   "cell_type": "code",
   "execution_count": null,
   "metadata": {},
   "outputs": [],
   "source": [
    "logging.basicConfig(filename=\"example.log\", level=logging.INFO)"
   ]
  },
  {
   "cell_type": "markdown",
   "metadata": {},
   "source": [
    "## (Deprecation) warnings "
   ]
  },
  {
   "cell_type": "markdown",
   "metadata": {},
   "source": [
    "When features of the programme (or underlying libraries) become\n",
    "obsolete (deprecated), users nowadays usually do not get a warning.\n",
    "(More details on that [here](https://github.com/PyPSA/atlite/issues/27))\n",
    "\n",
    "We recommend you turn on those warnings to get a headsup if you are using\n",
    "features which will be removed in future releases.\n",
    "\n",
    "To enable the warnings and have the `logging` library handle them,\n",
    "use the following lines at the beginning of your code"
   ]
  },
  {
   "cell_type": "code",
   "execution_count": null,
   "metadata": {},
   "outputs": [],
   "source": [
    "import warnings\n",
    "\n",
    "warnings.simplefilter(\"always\", DeprecationWarning)\n",
    "logging.captureWarnings(True)"
   ]
  }
 ],
 "metadata": {
  "kernelspec": {
   "display_name": "Python [conda env:atlite-doc]",
   "language": "python",
   "name": "conda-env-atlite-doc-py"
  },
  "language_info": {
   "codemirror_mode": {
    "name": "ipython",
    "version": 3
   },
   "file_extension": ".py",
   "mimetype": "text/x-python",
   "name": "python",
   "nbconvert_exporter": "python",
   "pygments_lexer": "ipython3",
   "version": "3.7.3"
  }
 },
 "nbformat": 4,
 "nbformat_minor": 2
}

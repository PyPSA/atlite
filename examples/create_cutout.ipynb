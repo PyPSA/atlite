{
 "cells": [
  {
   "cell_type": "markdown",
   "metadata": {},
   "source": [
    "# Creating a Cutout with ERA5"
   ]
  },
  {
   "cell_type": "markdown",
   "metadata": {},
   "source": [
    "In this example we download ERA5 data on-demand for a cutout we want to create.\n",
    "(atlite does also work with other datasources, but ERA5 is the easiest one to get started.)\n",
    "\n",
    "This only works if you have in before\n",
    "\n",
    "* Installed the Copernicus Climate Data Store `cdsapi` package\n",
    "* Registered and setup your CDS API key as described [on their website here](https://cds.climate.copernicus.eu/api-how-to)"
   ]
  },
  {
   "cell_type": "markdown",
   "metadata": {},
   "source": [
    "Import the package first:"
   ]
  },
  {
   "cell_type": "code",
   "execution_count": null,
   "metadata": {},
   "outputs": [],
   "source": [
    "import atlite"
   ]
  },
  {
   "cell_type": "markdown",
   "metadata": {},
   "source": [
    "We implement notifications in `atlite` using loggers from the `logging` library.\n",
    "\n",
    "We recommend you always launch a logger to get information on what is going on.\n",
    "For debugging, you can use the more verbose `level=logging.DEBUG`:"
   ]
  },
  {
   "cell_type": "code",
   "execution_count": null,
   "metadata": {},
   "outputs": [],
   "source": [
    "import logging\n",
    "\n",
    "logging.basicConfig(level=logging.INFO)"
   ]
  },
  {
   "cell_type": "markdown",
   "metadata": {},
   "source": [
    "## Defining the Cutout extent\n",
    "\n",
    "> This will not yet trigger any major operations.\n",
    "\n",
    "A cutout is the basis for any of your work and calculations.\n",
    "\n",
    "The `cutout` is created in the directory and file specified by the relative `path`\n",
    "If a cutout at the given location already exists, then this command will simply load the cutout again.\n",
    "If the cutout does not yet exist, it will specify the new to-be-created cutout.\n",
    "> **Note** `ERA5`, Before the data can be downloaded it has to be processed by CDS servers, this might take a while depending on the ammout of data requested. \n",
    "You can check the status of your request [here](https://cds.climate.copernicus.eu/cdsapp#!/yourrequests)."
   ]
  },
  {
   "cell_type": "code",
   "execution_count": null,
   "metadata": {},
   "outputs": [],
   "source": [
    "cutout = atlite.Cutout(\n",
    "    path=\"western-europe-2011-01.nc\",\n",
    "    module=\"era5\",\n",
    "    x=slice(-13.6913, 1.7712),\n",
    "    y=slice(49.9096, 60.8479),\n",
    "    time=\"2011-01\",\n",
    ")"
   ]
  },
  {
   "cell_type": "markdown",
   "metadata": {},
   "source": [
    "For creating the cutout, you need to specify\n",
    "\n",
    "* The dataset to create the cutout with (`era5`)\n",
    "* The time period it covers\n",
    "* The longitude `x` and latitude `y` it stretches\n",
    "\n",
    "\n",
    "Here we went with the `ERA5` dataset from ECMWF\n",
    "\n",
    "```\n",
    "module=\"era5\"\n",
    "```\n",
    "\n",
    "Here we decided to provide the `time` period of the cutout as a string, because it is only a month.\n",
    "You could have also specify it as a time range\n",
    "\n",
    "```\n",
    "slice(\"2011-01\",\"2011-01\")\n",
    "```\n",
    "\n",
    "The regional bounds (space the cutout stretches) where specified by the\n",
    "```\n",
    "x=slice(-13.6913, 1.7712) # Longitude\n",
    "y=slice(49.9096, 60.8479) # Latitude\n",
    "```\n",
    "\n",
    "and describe a rectangle's edges.\n",
    "In this case we drew a rectangle containing some parts of the atlantic ocean,\n",
    "the Republic of Ireland and the UK."
   ]
  },
  {
   "cell_type": "markdown",
   "metadata": {},
   "source": [
    "## Preparing the Cutout\n",
    "\n",
    "If the cutout does not yet exist or has some features which are not yet included, we have to tell atlite to go ahead and do so.\n",
    "\n",
    "No matter which dataset you use, this is where all the work actually happens.\n",
    "This can be fast or take some or a lot of time and resources, among others depending on\n",
    "your computer ressources and (for downloading e.g. ERA5 data) your internet connection."
   ]
  },
  {
   "cell_type": "code",
   "execution_count": null,
   "metadata": {},
   "outputs": [],
   "source": [
    "cutout.prepare()"
   ]
  },
  {
   "cell_type": "markdown",
   "metadata": {},
   "source": [
    "The `cutout.prepare()` function takes a list of features which should be prepared. When this is not specified, all available features are build. \n",
    "\n",
    "After, the execution all downloaded data is stored at `cutout.path`. Per default it is not loaded into memory, but into [dask](https://dask.org/) arrays. This keeps the memory consumption extremely low.  \n",
    "\n",
    "The data is accessible in `cutout.data` which is an `xarray.Dataset`. \n",
    "Querying the cutout gives us some basic information on which data is contained\n",
    "in it."
   ]
  },
  {
   "cell_type": "code",
   "execution_count": null,
   "metadata": {},
   "outputs": [],
   "source": [
    "cutout.data"
   ]
  },
  {
   "cell_type": "markdown",
   "metadata": {},
   "source": [
    "We can again breakdown which data array belongs to which feature."
   ]
  },
  {
   "cell_type": "code",
   "execution_count": null,
   "metadata": {},
   "outputs": [],
   "source": [
    "cutout.prepared_features"
   ]
  },
  {
   "cell_type": "markdown",
   "metadata": {},
   "source": [
    "If you have matplotlib installed, you can directly use the \n",
    "plotting functionality from `xarray` to plot features from\n",
    "the cutout's data.\n",
    "\n",
    "> **Warning**\n",
    ">  This will trigger `xarray` to load all the corresponding data from disk into memory!\n",
    "\n"
   ]
  },
  {
   "cell_type": "markdown",
   "metadata": {},
   "source": [
    "Now that your cutout is created and prepared, you can call conversion functions as `cutout.pv` or `cutout.wind`. Note that this requires a bit more information, like what kind of pv panels to use, where do they stand etc. Please have a look at the other examples to get a picture of application cases."
   ]
  },
  {
   "cell_type": "markdown",
   "metadata": {},
   "source": [
    "## Reducing Cutout file sizes\n",
    "\n",
    "Cutouts can become quite large, depending on the spatial and temporal scope they cover.\n",
    "By default `atlite` uses a trade-off between speed and compression to reduce the file size of cutouts.\n",
    "\n",
    "Stronger compression can be selected when creating a new cutout by choosing a higher `complevel` (`1` to `9`, default: `4`)\n",
    "```\n",
    "cutout.prepare(compression={\"zlib\": True, \"complevel\": 9})\n",
    "```\n",
    "\n",
    "To change the compression for an existing cutout:\n",
    "```\n",
    "cutout = atlite.Cutout(\"cutout-path.nc\")\n",
    "\n",
    "compression = {\"zlib\": True, \"complevel\": 9}\n",
    "for var in cutout.data.data_vars:\n",
    "    cutout.data[var].encoding.update(compression)\n",
    "\n",
    "cutout.to_file()\n",
    "```\n",
    "For details and more arguments for `compression`, see the [xarray documentation](https://docs.xarray.dev/en/stable/generated/xarray.Dataset.to_netcdf.html) for details.\n",
    "\n",
    "Alternatively a cutout can also be compressed by using the `netcdf` utility `nccopy` from the commandline:\n",
    "\n",
    "```\n",
    "nccopy -d4 -s <input cutout .nc file> <output cutout .nc file>\n",
    "```"
   ]
  }
 ],
 "metadata": {
  "@webio": {
   "lastCommId": null,
   "lastKernelId": null
  },
  "kernelspec": {
   "display_name": "",
   "language": "python",
   "name": ""
  },
  "language_info": {
   "codemirror_mode": {
    "name": "ipython",
    "version": 3
   },
   "file_extension": ".py",
   "mimetype": "text/x-python",
   "name": "python",
   "nbconvert_exporter": "python",
   "pygments_lexer": "ipython3",
   "version": "3.8.5"
  }
 },
 "nbformat": 4,
 "nbformat_minor": 4
}

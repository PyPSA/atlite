{
 "cells": [
  {
   "attachments": {},
   "cell_type": "markdown",
   "metadata": {},
   "source": [
    "# Building stock weather aggregation.\n",
    "\n",
    "In this example, we'll aggregate ERA5 weather data for Finland\n",
    "based on population density statistics for the purposes\n",
    "of simple thermal modelling of residential building stock heat demand.\n",
    "Unlike when calculating PV or wind power production or degree-day heat demand,\n",
    "we're not interested in the *accumulated* weather, but instead on the *average*\n",
    "weather over the desired geographical distribution.\n",
    "For this, we'll exploit the `layout` feature in `atlite`,\n",
    "except that the \"capacity layouts\" we'll be using are normalized,\n",
    "so that they yield weighted average values instead of accumulated ones.\n",
    "\n",
    "### The weather data parameters we're interested in are:\n",
    "\n",
    "1. Ambient temperature.\n",
    "2. Direct solar irradiation for vertical surfaces facing the cardinal directions.\n",
    "3. Diffuse solar irradiation for vertical surfaces facing the cardinal directions.\n",
    "\n",
    "This example borrows heavily from the previous examples for\n",
    "[creating a cutout](https://atlite.readthedocs.io/en/latest/examples/create_cutout.html)\n",
    "and [historic PV and wind comparison](https://atlite.readthedocs.io/en/latest/examples/historic-comparison-germany.html),\n",
    "so familiarizing oneself with them might help with following this one.\n",
    "\n",
    "## Import necessary packages\n",
    "\n",
    "As usual, we'll need to start by importing the necessary packages."
   ]
  },
  {
   "cell_type": "code",
   "execution_count": null,
   "metadata": {},
   "outputs": [],
   "source": [
    "import logging\n",
    "\n",
    "import atlite\n",
    "\n",
    "logging.basicConfig(level=logging.INFO)"
   ]
  },
  {
   "attachments": {},
   "cell_type": "markdown",
   "metadata": {},
   "source": [
    "## Defining the Finland cutout from ERA5\n",
    "\n",
    "Here, we'll define the `cutout` serving as the basis for our calculations.\n",
    "For the purposes of this example, we'll be using ERA5 data for Finland for\n",
    "the June of 2011.\n",
    "We'll use a `GeoDataFrame` for determining the bounding box for Finland.\n",
    "*(And later for clipping the population density data)*"
   ]
  },
  {
   "cell_type": "code",
   "execution_count": null,
   "metadata": {},
   "outputs": [],
   "source": [
    "import geopandas\n",
    "\n",
    "world = geopandas.read_file(geopandas.datasets.get_path(\"naturalearth_lowres\"))\n",
    "finland = world.loc[world.iso_a3 == \"FIN\"]\n",
    "x1, y1, x2, y2 = finland.bounds.values[0]\n",
    "cutout = atlite.Cutout(\n",
    "    path=\"finland-2011-06.nc\",\n",
    "    module=\"era5\",\n",
    "    x=slice(x1 - 0.2, x2 + 0.2),\n",
    "    y=slice(y1 - 0.2, y2 + 0.2),\n",
    "    time=\"2011-06\",\n",
    ")\n",
    "cutout"
   ]
  },
  {
   "attachments": {},
   "cell_type": "markdown",
   "metadata": {},
   "source": [
    "## Preparing the cutout\n",
    "\n",
    "**This is where the work happens, and preparing the cutout can take long time\n",
    "depending on your machine and your internet connection when downloading the\n",
    "required data.**\n",
    "For comparison, downloading the data for year 2011 while testing took\n",
    "around 50 minutes.\n",
    "\n",
    "While techically wind speeds also affect building heat demand,\n",
    "simplified models often replace this interaction with some constant\n",
    "approximation.\n",
    "Thus, we're only interested in temperature data for heat losses,\n",
    "and solar irradiation data for solar heat gains."
   ]
  },
  {
   "cell_type": "code",
   "execution_count": null,
   "metadata": {},
   "outputs": [],
   "source": [
    "cutout.prepare(features=[\"influx\", \"temperature\"])"
   ]
  },
  {
   "attachments": {},
   "cell_type": "markdown",
   "metadata": {},
   "source": [
    "## Generating layouts\n",
    "\n",
    "For the population density data, we'll use data from the\n",
    "[European Environment Agency based on Corine Land Cover 2000](https://www.eea.europa.eu/ds_resolveuid/DAT-19-en) *(`popu01clcv5.tif`)*.\n",
    "For reading the population density GeoTiff into an `xarray.DataArray`, we'll use the\n",
    "[rioxarray package](https://pypi.org/project/rioxarray/)."
   ]
  },
  {
   "cell_type": "code",
   "execution_count": null,
   "metadata": {},
   "outputs": [],
   "source": [
    "import rioxarray\n",
    "\n",
    "population_density = rioxarray.open_rasterio(\"popu01clcv5.tif\", masked=True)"
   ]
  },
  {
   "attachments": {},
   "cell_type": "markdown",
   "metadata": {},
   "source": [
    "The `popu01clcv5.tif` covers the entirety of Europe, which is too large\n",
    "for our purposes. Thus, we want to clip it to cover only Finland.\n",
    "However, the population density data uses EPSG:3035 ETRS89/ETRS-LAEA\n",
    "as its coordinate reference system:"
   ]
  },
  {
   "cell_type": "code",
   "execution_count": null,
   "metadata": {},
   "outputs": [],
   "source": [
    "population_density.rio.crs"
   ]
  },
  {
   "attachments": {},
   "cell_type": "markdown",
   "metadata": {},
   "source": [
    "whereas the ERA5 data and our Finland `GeoDataFrame` use EPSG:4326"
   ]
  },
  {
   "cell_type": "code",
   "execution_count": null,
   "metadata": {},
   "outputs": [],
   "source": [
    "finland.crs"
   ]
  },
  {
   "attachments": {},
   "cell_type": "markdown",
   "metadata": {},
   "source": [
    "Thus, we need to do some reprojections.\n",
    "Since the `popu01clcv5.tif` is quite large, it's actually faster to reproject\n",
    "the Finland `GeoDataFrame` to EPSG:3035 first, then clip the raster,\n",
    "and project the clipped raster to EPSG:4326, than to reproject\n",
    "the entire raster and then clip it.\n",
    "Furthermore, the population density data has an unnecessarily\n",
    "high resolution for our purposes.\n",
    "Thus, we also need to coarsen the resolution a bit,\n",
    "as well as match the layout to the cutout indices.\n",
    "Finally, since we're interested in the *average* weather instead of *accumulated* weather,\n",
    "we need to normalize the raster data to form the final layout.\n",
    "\n",
    "*(The `resampling=5` corresponds to the `average` [`rasterio.enums.Resampling`](https://rasterio.readthedocs.io/en/stable/api/rasterio.enums.html#rasterio.enums.Resampling) option. Feel free to experiment with other sampling methods to see how the raster changes!)*\n",
    "\n",
    "*(The `from_disk=True` preserves memory, as otherwise dealing with the massive raster can result in running out of RAM)*"
   ]
  },
  {
   "cell_type": "code",
   "execution_count": null,
   "metadata": {},
   "outputs": [],
   "source": [
    "import matplotlib.pyplot as plt\n",
    "\n",
    "# Reproject Finland GeoDataFrame to EPSG:3035 to match the population density raster\n",
    "finland_3035 = finland.to_crs(\"EPSG:3035\")\n",
    "\n",
    "# Clip the raster data and reproject the result back into EPSG:4326 to match the cutout,\n",
    "# also remove some unnecessary dimensions via `squeeze()`\n",
    "layout = (\n",
    "    population_density.rio.clip(\n",
    "        finland_3035.geometry, from_disk=True\n",
    "    )  # Clip the population density raster data with the reprojected Finland shape.\n",
    "    .rio.reproject(  # Reproject and resample the population density raster to match the cutout.\n",
    "        cutout.crs,\n",
    "        shape=cutout.shape,\n",
    "        transform=cutout.transform,\n",
    "        resampling=5,\n",
    "        from_disk=True,\n",
    "    )\n",
    "    .squeeze()  # Squeeze to remove any unnecessary dimensions.\n",
    ")\n",
    "\n",
    "# Normalize the population density layout\n",
    "layout = layout / layout.sum()\n",
    "\n",
    "# Plot to inspect the new raster\n",
    "layout.plot()\n",
    "plt.title(\"Population density layout, downscaled & normalized\")"
   ]
  },
  {
   "attachments": {},
   "cell_type": "markdown",
   "metadata": {},
   "source": [
    "For comparison, we'll also create a uniformly distributed layout,\n",
    "as well as fetch the temperature for the city of *Jyväskylä*. \n",
    "The heating degree days of Jyväskylä are used by Statistics Finland for\n",
    "estimating the heating demand of the Finnish residential building stock,\n",
    "so it acts as a good comparison for our weather data processing."
   ]
  },
  {
   "cell_type": "code",
   "execution_count": null,
   "metadata": {},
   "outputs": [],
   "source": [
    "import pandas as pd\n",
    "\n",
    "# Create an uniform layout\n",
    "uniform = layout.round() + 1.0\n",
    "uniform = uniform / uniform.sum()\n",
    "\n",
    "# Create a layout for the city of Jyväskylä.\n",
    "jyvaskyla = cutout.layout_from_capacity_list(\n",
    "    pd.DataFrame(data={\"x\": [25.68], \"y\": [62.40], \"Capacity\": 1.0})\n",
    ")"
   ]
  },
  {
   "attachments": {},
   "cell_type": "markdown",
   "metadata": {},
   "source": [
    "## Calculating the average weather\n",
    "\n",
    "Now that we have our layouts ready, we can simply pass them to the `cutout`\n",
    "to get the weather data we need.\n",
    "First, let's calculate the ambient temperature and solar irradiation on\n",
    "vertical surfaces facing different cardinal directions for the population density\n",
    "weighted layout, the uniform layout, and the city of Jyväskylä.\n",
    "\n",
    "**Note that we use `layout.fillna(0.)` to fill the missing values with zeroes,**\n",
    "**as the layouts don't work properly otherwise!**\n",
    "This was avoided prior to this, as examining the raster data is much easier\n",
    "when the shape of Finland is clearly visible in the plots,\n",
    "which is not the case after the `NaN` values are replaced with zeroes."
   ]
  },
  {
   "cell_type": "code",
   "execution_count": null,
   "metadata": {},
   "outputs": [],
   "source": [
    "# Calculate temperature data into a dictionary\n",
    "temperature_dict = {}\n",
    "layouts = {\"Weighted\": layout, \"Uniform\": uniform, \"Jyväskylä\": jyvaskyla}\n",
    "for name, lout in layouts.items():\n",
    "    temperature_dict[name] = (\n",
    "        cutout.temperature(layout=lout.fillna(0.0)).squeeze().to_series()\n",
    "    )\n",
    "\n",
    "# Calculate radiation data into dictionaries\n",
    "irr_total = {}\n",
    "irr_direct = {}\n",
    "irr_diffuse = {}\n",
    "dirs = {\"north\": 0.0, \"east\": 90.0, \"south\": 180.0, \"west\": 270.0}\n",
    "for name, lout in layouts.items():\n",
    "    irr_total[name] = {\n",
    "        d: cutout.irradiation(\n",
    "            orientation={\"slope\": 90.0, \"azimuth\": az}, layout=lout.fillna(0.0)\n",
    "        )\n",
    "        .squeeze()\n",
    "        .to_series()\n",
    "        for d, az in dirs.items()\n",
    "    }\n",
    "    irr_direct[name] = {\n",
    "        d: cutout.irradiation(\n",
    "            orientation={\"slope\": 90.0, \"azimuth\": az},\n",
    "            layout=lout.fillna(0.0),\n",
    "            irradiation=\"direct\",\n",
    "        )\n",
    "        .squeeze()\n",
    "        .to_series()\n",
    "        for d, az in dirs.items()\n",
    "    }\n",
    "    irr_diffuse[name] = {\n",
    "        d: cutout.irradiation(\n",
    "            orientation={\"slope\": 90.0, \"azimuth\": az},\n",
    "            layout=lout.fillna(0.0),\n",
    "            irradiation=\"diffuse\",\n",
    "        )\n",
    "        .squeeze()\n",
    "        .to_series()\n",
    "        for d, az in dirs.items()\n",
    "    }"
   ]
  },
  {
   "attachments": {},
   "cell_type": "markdown",
   "metadata": {},
   "source": [
    "## Examine the results via plotting.\n",
    "\n",
    "Let's start with the ambient temperatures, as the plots are simpler.\n",
    "In the code below, you can use the `fsize` and `time_to_plot` values to\n",
    "tweak the size and timeframe of the plots.\n",
    "These settings are used for all the temperature and irradiation plots\n",
    "under this section.\n",
    "\n",
    "We recommend plotting results monthly, e.g. `time_to_plot=\"2011-06\"`,\n",
    "as it works nicely both for temperature and irradiation data.\n",
    "However, plotting the full year using `time_to_plot=\"2011\"` can help examine\n",
    "the big picture for temperature and irradiation,\n",
    "while daily resolution e.g. `time_to_plot=\"2011-06-01\"` can help examine\n",
    "the solar irradiation details for the different facing walls.\n",
    "\n",
    "Note that for yearly plots, you have to change the cutout and re-download\n",
    "data for the entire year.\n",
    "Also note that the data uses UTC+0, while Finland generally uses UTC+2."
   ]
  },
  {
   "cell_type": "code",
   "execution_count": null,
   "metadata": {},
   "outputs": [],
   "source": [
    "# Define figure size and timeframe for plotting\n",
    "fsize = (15, 6)\n",
    "time_to_plot = \"2011-06\"\n",
    "\n",
    "# Convert temperature dictionary to dataframe for easier plotting.\n",
    "temps = pd.DataFrame(temperature_dict)\n",
    "temps.loc[time_to_plot].plot(\n",
    "    figsize=fsize,\n",
    "    title=\"Ambient temperature comparison\",\n",
    "    ylabel=\"Ambient temperature [C]\",\n",
    "    xlabel=\"Datetime\",\n",
    ")"
   ]
  },
  {
   "attachments": {},
   "cell_type": "markdown",
   "metadata": {},
   "source": [
    "Seems ok. The *Weighted* temperature is more similar to the *Jyväskylä*\n",
    "temperature than the *Uniform* one, so there's clearly a good reason behind\n",
    "using the heating degree days from Jyväskylä.\n",
    "Though, as expected, the *Jyväskylä* temperature is noticeably more volatile\n",
    "than the averaged temperatures *Weighted* and *Uniform*.\n",
    "\n",
    "Let's look at the irradiation data next.\n",
    "First, let's simply examine the total irradiation on the South-facing wall\n",
    "for the different layouts."
   ]
  },
  {
   "cell_type": "code",
   "execution_count": null,
   "metadata": {},
   "outputs": [],
   "source": [
    "irrads = pd.DataFrame({name: data[\"south\"] for name, data in irr_total.items()})\n",
    "irrads.loc[time_to_plot].plot(\n",
    "    figsize=fsize,\n",
    "    title=\"Total irradiation on the south-facing wall\",\n",
    "    xlabel=\"Datetime\",\n",
    "    ylabel=\"Total irradiation [W/m2]\",\n",
    ")"
   ]
  },
  {
   "attachments": {},
   "cell_type": "markdown",
   "metadata": {},
   "source": [
    "Unfortunately, here we can no longer see any meaningful correlation between\n",
    "the different layouts.\n",
    "Still, we can examine that the total, direct, and diffuse irradiation all\n",
    "behave as they should for the *Weighted* layout."
   ]
  },
  {
   "cell_type": "code",
   "execution_count": null,
   "metadata": {},
   "outputs": [],
   "source": [
    "tot_irrads = pd.DataFrame(irr_total[\"Weighted\"])\n",
    "tot_irrads.loc[time_to_plot].plot(\n",
    "    figsize=fsize,\n",
    "    title=\"Weighted total irradiation on the walls\",\n",
    "    xlabel=\"Datetime\",\n",
    "    ylabel=\"Weighted total irradiation [W/m2]\",\n",
    ")"
   ]
  },
  {
   "cell_type": "code",
   "execution_count": null,
   "metadata": {},
   "outputs": [],
   "source": [
    "dir_irrads = pd.DataFrame(irr_direct[\"Weighted\"])\n",
    "dir_irrads.loc[time_to_plot].plot(\n",
    "    figsize=fsize,\n",
    "    title=\"Weighted direct irradiation on the walls\",\n",
    "    xlabel=\"Datetime\",\n",
    "    ylabel=\"Weighted direct irradiation [W/m2]\",\n",
    ")"
   ]
  },
  {
   "cell_type": "code",
   "execution_count": null,
   "metadata": {},
   "outputs": [],
   "source": [
    "dif_irrads = pd.DataFrame(irr_diffuse[\"Weighted\"])\n",
    "dif_irrads.loc[time_to_plot].plot(\n",
    "    figsize=fsize,\n",
    "    title=\"Weighted diffuse irradiation on the walls\",\n",
    "    xlabel=\"Datetime\",\n",
    "    ylabel=\"Weighted diffuse irradiation [W/m2]\",\n",
    ")"
   ]
  },
  {
   "attachments": {},
   "cell_type": "markdown",
   "metadata": {},
   "source": [
    "Overall, the irradiation seems to behave as expected.\n",
    "Direct irradiation peaks at different times for the different walls:\n",
    "in the morning for the east-facing wall, around noon for the south-facing wall,\n",
    "in the evening for the west-facing wall, and in both the early morning and\n",
    "late evening for the north-facing wall in Summer.\n",
    "Furthermore, the south-facing wall receives lower peak irradiation than the east and west-facing walls in Summer,\n",
    "as the sun is much higher in the sky during the day compared to the morning and the evening.\n",
    "\n",
    "Meanwhile, there is no difference in the diffuse irradiation,\n",
    "as it doesn't matter how the wall is oriented."
   ]
  }
 ],
 "metadata": {
  "interpreter": {
   "hash": "7434f5d3405186255a76da38ed0d5a1cc2c26fc39fd66a8a33cdd9c1e700ee77"
  },
  "kernelspec": {
   "display_name": "",
   "language": "python",
   "name": ""
  },
  "language_info": {
   "codemirror_mode": {
    "name": "ipython",
    "version": 3
   },
   "file_extension": ".py",
   "mimetype": "text/x-python",
   "name": "python",
   "nbconvert_exporter": "python",
   "pygments_lexer": "ipython3",
   "version": "3.11.0"
  },
  "orig_nbformat": 4
 },
 "nbformat": 4,
 "nbformat_minor": 2
}

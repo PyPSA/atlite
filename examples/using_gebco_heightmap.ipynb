{
 "cells": [
  {
   "cell_type": "markdown",
   "metadata": {},
   "source": [
    "# Using GEBCO as a height map\n",
    "\n",
    "\n",
    "Cutout created using ERA5 contain the geopotential height popular in metrology. This height measure is similar but not equivalent to height measures “above sea level” and is especially inaccurate in sea regions.\n",
    "\n",
    "To use more a more precise height measure, atlite allows to create cutouts using the GEBCO datasets, which contains very precise height maps for sea as well as land areas.\n",
    "\n",
    ".. note::\n",
    "    It is strongly recommended to use the GEBCO height when accurate height's are required,\n",
    "    e.g. when excluding offshore locations for wind turbines.\n",
    "\n",
    "\n",
    "To utilise GEBCO for a cutout, the dataset first has to be manually downloaded from the GEBCO website in the “netCDF” and uncompressed manually. The GEBCO 2014 as well as GEBCO 2019 release are supported, with the later being a bit more accurate at a higher resolution, but subsequently significantly larger as the former. In the cutout creation the additional argument gebco_path then has to be pointed to the location to where the GEBCO_<year>.nc file was extracted to. The cutout is then finally prepared as usually, we additionaly trigger the spatial resolution to 0.1 degree.\n",
    "    \n",
    "    "
   ]
  },
  {
   "cell_type": "code",
   "execution_count": null,
   "metadata": {},
   "outputs": [],
   "source": [
    "import atlite\n",
    "\n",
    "gebco = atlite.Cutout(\n",
    "    path=\"gebco_height.nc\",\n",
    "    module=\"gebco\",\n",
    "    gebco_path=\"./GEBCO_2014_2D.nc\",\n",
    "    x=slice(-20, 40),\n",
    "    y=slice(40, 70),\n",
    "    dx=0.1,\n",
    "    dy=0.1,\n",
    "    chunks=None,\n",
    "    time=\"2011-01\",\n",
    ")\n",
    "gebco.prepare()"
   ]
  },
  {
   "cell_type": "code",
   "execution_count": null,
   "metadata": {},
   "outputs": [],
   "source": [
    "gebco.data"
   ]
  },
  {
   "cell_type": "code",
   "execution_count": null,
   "metadata": {},
   "outputs": [],
   "source": [
    "gebco.data.height.plot(size=8)"
   ]
  },
  {
   "cell_type": "markdown",
   "metadata": {},
   "source": [
    "GEBCO uses a higher resolution as ERA5, thus the height map from GEBCO is rescaled using a weighted average to coincide with the ERA5 raster. The difference in heights between ERA5 and GEBCO for cutouts is shown below, underlining the difference when working on offshore locations:"
   ]
  },
  {
   "cell_type": "code",
   "execution_count": null,
   "metadata": {},
   "outputs": [],
   "source": [
    "era5_height = atlite.Cutout(\n",
    "    path=\"era5_heigth.nc\",\n",
    "    module=\"era5\",\n",
    "    x=slice(-20, 40),\n",
    "    y=slice(40, 70),\n",
    "    time=\"2011-01\",\n",
    "    chunks=None,\n",
    ")\n",
    "era5_height.prepare(features=[\"height\"])"
   ]
  },
  {
   "cell_type": "code",
   "execution_count": null,
   "metadata": {},
   "outputs": [],
   "source": [
    "era5_height.data.height.plot(size=8)"
   ]
  }
 ],
 "metadata": {
  "@webio": {
   "lastCommId": null,
   "lastKernelId": null
  },
  "kernelspec": {
   "display_name": "",
   "language": "python",
   "name": ""
  },
  "language_info": {
   "codemirror_mode": {
    "name": "ipython",
    "version": 3
   },
   "file_extension": ".py",
   "mimetype": "text/x-python",
   "name": "python",
   "nbconvert_exporter": "python",
   "pygments_lexer": "ipython3",
   "version": "3.7.6"
  }
 },
 "nbformat": 4,
 "nbformat_minor": 2
}

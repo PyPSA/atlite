{
 "cells": [
  {
   "cell_type": "markdown",
   "metadata": {},
   "source": [
    "# Weather data aggregation for the Finnish residential building stock.\n",
    "\n",
    "In this example, we'll aggregate ERA5 weather data for Finland\n",
    "based on national population density statistics for the purposes\n",
    "of simple lumped-capacitance building thermal modelling of residential\n",
    "building stock heat demand.\n",
    "Unlike when calculating PV or wind power production or degree-day heat demand,\n",
    "we're not interested in the *accumulated* weather, but instead on the *average*\n",
    "weather over the desired geographical distribution.\n",
    "For this, we'll exploit the `layout` feature in `atlite`,\n",
    "except that the \"capacity layouts\" we'll be using are normalized,\n",
    "so that they yield weighted average values instead of accumulated ones.\n",
    "\n",
    "### The weather data parameters we're interested in are:\n",
    "\n",
    "1. Ambient temperature.\n",
    "2. Direct solar irradiation for vertical surfaces facing the cardinal directions.\n",
    "3. Diffuse solar irradiation for vertical surfaces facing the cardinal directions.\n",
    "\n",
    "This example borrows heavily from the previous examples for\n",
    "[creating a cutout](https://atlite.readthedocs.io/en/latest/examples/create_cutout.html)\n",
    "and [historic PV and wind comparison](https://atlite.readthedocs.io/en/latest/examples/historic-comparison-germany.html),\n",
    "so familiarizing oneself with them might help with following this one.\n",
    "\n",
    "## Import necessary packages\n",
    "\n",
    "As usual, we'll need to start by importing the necessary packages."
   ]
  },
  {
   "cell_type": "code",
   "execution_count": null,
   "metadata": {},
   "outputs": [],
   "source": [
    "import atlite\n",
    "import matplotlib.pyplot as plt\n",
    "import logging\n",
    "logging.basicConfig(level=logging.INFO)"
   ]
  },
  {
   "cell_type": "markdown",
   "metadata": {},
   "source": [
    "## Defining the Finland cutout from ERA5\n",
    "\n",
    "Here, we'll define the `cutout` serving as the basis for our calculations.\n",
    "For the purposes of this example, we'll be using ERA5 data for Finland for\n",
    "the year 2011.\n",
    "We'll use a `GeoDataFrame` for determining the bounding box for Finland.\n",
    "*(And later for clipping the population density data)*"
   ]
  },
  {
   "cell_type": "code",
   "execution_count": null,
   "metadata": {},
   "outputs": [],
   "source": [
    "import geopandas\n",
    "world = geopandas.read_file(geopandas.datasets.get_path('naturalearth_lowres'))\n",
    "finland = world.loc[world.iso_a3 == 'FIN']\n",
    "x1, y1, x2, y2 = finland.bounds.values[0]"
   ]
  },
  {
   "cell_type": "code",
   "execution_count": null,
   "metadata": {},
   "outputs": [],
   "source": [
    "cutout = atlite.Cutout(\n",
    "    path=\"finland-2011.nc\",\n",
    "    module=\"era5\",\n",
    "    x=slice(x1-.2,x2+.2),\n",
    "    y=slice(y1-.2,y2+.2),\n",
    "    time=\"2011\"\n",
    ")"
   ]
  },
  {
   "cell_type": "markdown",
   "metadata": {},
   "source": [
    "## Preparing the cutout\n",
    "\n",
    "**This is where the work happens, and preparing the cutout can take long time\n",
    "depending on your machine and your internet connection when downloading the\n",
    "required data.**\n",
    "For comparison, downloading the data for year 2011 while testing took\n",
    "around 53 minutes.\n",
    "\n",
    "While techically wind speeds affects building heat demand,\n",
    "simplified models often replace this interaction with some constant\n",
    "approximation.\n",
    "Thus, we're only interested in temperature data for heat losses,\n",
    "and solar irradiation data for solar heat gains."
   ]
  },
  {
   "cell_type": "code",
   "execution_count": null,
   "metadata": {},
   "outputs": [],
   "source": [
    "cutout.prepare(features=['influx', 'temperature'])"
   ]
  },
  {
   "cell_type": "markdown",
   "metadata": {},
   "source": [
    "## Generating layouts\n",
    "\n",
    "For the population density data, we'll use data from the\n",
    "[European Environment Agency based on Corine Land Cover 2000](https://www.eea.europa.eu/data-and-maps/data/population-density-disaggregated-with-corine-land-cover-2000-2).\n",
    "Here's a link to the actual [GeoTiff file](https://www.eea.europa.eu/ds_resolveuid/9TBGV2SUIW).\n",
    "For reading the GeoTiff into an `xarray.DataArray`, we'll use the\n",
    "[rioxarray package](https://pypi.org/project/rioxarray/)."
   ]
  },
  {
   "cell_type": "code",
   "execution_count": null,
   "metadata": {},
   "outputs": [],
   "source": [
    "import rioxarray\n",
    "population_density = rioxarray.open_rasterio(\"popu01clcv5.tif\", masked=True)"
   ]
  },
  {
   "cell_type": "markdown",
   "metadata": {},
   "source": [
    "Now, the `popu01clcv5.tif` covers the entirety of Europe, which is too large\n",
    "for our purposes. Thus, we want to clip it to cover only Finland.\n",
    "However, the population density data uses EPSG:3035 ETRS89/ETRS-LAEA\n",
    "as its coordinate reference system:"
   ]
  },
  {
   "cell_type": "code",
   "execution_count": null,
   "metadata": {},
   "outputs": [],
   "source": [
    "population_density.rio.crs"
   ]
  },
  {
   "cell_type": "markdown",
   "metadata": {},
   "source": [
    "whereas the ERA5 data and our Finland `GeoDataFrame` use EPSG:4326"
   ]
  },
  {
   "cell_type": "code",
   "execution_count": null,
   "metadata": {},
   "outputs": [],
   "source": [
    "finland.crs"
   ]
  },
  {
   "cell_type": "markdown",
   "metadata": {},
   "source": [
    "Thus, we need to do some reprojections.\n",
    "Since the `popu01clcv5.tif` is quite large, it's actually faster to reproject\n",
    "the Finland `GeoDataFrame` to EPSG:3035 first, then clip the raster,\n",
    "and project the clipped raster to EPSG:4326, than to reproject\n",
    "the entire raster and then clip it.\n",
    "\n",
    "*(Plotting the raster for Finland takes a few minutes, because the population density data has a ludicurous resolution of 100m x 100m)*\n",
    "\n",
    "*(The `from_disk=True` preserves memory, as otherwise dealing with the massive raster can result in running out of RAM)*"
   ]
  },
  {
   "cell_type": "code",
   "execution_count": null,
   "metadata": {},
   "outputs": [],
   "source": [
    "# Reproject Finland GeoDataFrame to EPSG:3035\n",
    "finland_3035 = finland.to_crs(\"EPSG:3035\")\n",
    "\n",
    "# Clip the raster data and reproject the result back into EPSG:4326,\n",
    "# also remove some unnecessary dimensions via `squeeze()`\n",
    "finland_population_density = population_density.rio.clip(\n",
    "    finland_3035.geometry, from_disk=True\n",
    ").rio.reproject(\"EPSG:4326\", from_disk=True).squeeze()\n",
    "\n",
    "# Plot the clipped population density raster.\n",
    "finland_population_density.plot()\n",
    "plt.title(\"Population density, original\")"
   ]
  },
  {
   "cell_type": "markdown",
   "metadata": {},
   "source": [
    "The layout made based on the population density data has an unnecessarily\n",
    "high resolution for our purposes.\n",
    "In order to proceed, we need to match the layout to the cutout indices."
   ]
  },
  {
   "cell_type": "code",
   "execution_count": null,
   "metadata": {},
   "outputs": [],
   "source": [
    "downscaled = finland_population_density.reindex_like(\n",
    "    cutout.data, method='nearest'\n",
    ")\n",
    "downscaled.plot()\n",
    "plt.title(\"Population density, downscaled\")"
   ]
  },
  {
   "cell_type": "markdown",
   "metadata": {},
   "source": [
    "Much better.\n",
    "Finally, since we're interested in the *average* weather instead of *accumulated*\n",
    "weather, we need to normalize the above raster data to form the final layout."
   ]
  },
  {
   "cell_type": "code",
   "execution_count": null,
   "metadata": {},
   "outputs": [],
   "source": [
    "layout = downscaled / downscaled.sum()\n",
    "layout.plot()\n",
    "plt.title(\"Population density, downscaled & normalized\")"
   ]
  },
  {
   "cell_type": "markdown",
   "metadata": {},
   "source": [
    "For comparison, we'll also create a uniformly distributed layout."
   ]
  },
  {
   "cell_type": "code",
   "execution_count": null,
   "metadata": {},
   "outputs": [],
   "source": [
    "uniform = layout.round() + 1.\n",
    "uniform = uniform / uniform.sum()\n",
    "uniform.plot()\n",
    "plt.title(\"Uniform layout for Finland\")"
   ]
  },
  {
   "cell_type": "markdown",
   "metadata": {},
   "source": [
    "In addition to the population density weighed temperature and the uniformly\n",
    "distributed temperature, we'll also fetch the temperature for the city\n",
    "of *Jyväskylä*. \n",
    "The heating degree days of Jyväskylä are used by Statistics Finland for\n",
    "estimating the heating demand of the Finnish residential building stock,\n",
    "so it acts as a good baseline for out weather data processing."
   ]
  },
  {
   "cell_type": "code",
   "execution_count": null,
   "metadata": {},
   "outputs": [],
   "source": [
    "import pandas as pd\n",
    "jyvaskyla = cutout.layout_from_capacity_list(\n",
    "    pd.DataFrame(data={'x':[25.68], 'y':[62.40], 'Capacity':1.})\n",
    ")\n",
    "jyvaskyla.plot()\n",
    "plt.title(\"Layout for Jyväskylä\")"
   ]
  },
  {
   "cell_type": "markdown",
   "metadata": {},
   "source": [
    "## Calculating the average weather\n",
    "\n",
    "Now that we have our layouts ready, we can simply pass them to the `cutout`\n",
    "to get the weather data we need.\n",
    "First, let's calculate the ambient temperature and solar irradiation on\n",
    "vertical surfaces facing different cardinal directions for the population density\n",
    "weighted layout, the uniform layout, and the city of Jyväskylä.\n",
    "\n",
    "**Note that we use `layout.fillna(0.)` to fill the missing values with zeroes,**\n",
    "**and they layouts don't work properly otherwise!**\n",
    "This wasn't done previously, as examining the raster data is much easier\n",
    "when the shape of Finland is clearly visible in the plots,\n",
    "which is not the case after the `NaN` values are replaced with zeroes."
   ]
  },
  {
   "cell_type": "code",
   "execution_count": null,
   "metadata": {},
   "outputs": [],
   "source": [
    "# Calculate temperature data into a dictionary\n",
    "temperature_dict = {}\n",
    "layouts = {'Weighted':layout, 'Uniform':uniform, 'Jyväskylä':jyvaskyla}\n",
    "for name, lout in layouts.items():\n",
    "    temperature_dict[name] = cutout.temperature(layout=lout.fillna(0.))\\\n",
    "        .squeeze().to_series()\n",
    "\n",
    "# Calculate radiation data into dictionaries\n",
    "irr_total = {}\n",
    "irr_direct = {}\n",
    "irr_diffuse = {}\n",
    "dirs = {'north': 0., 'east': 90., 'south': 180., 'west': 270.}\n",
    "for name, lout in layouts.items():\n",
    "    irr_total[name] = {\n",
    "        d: cutout.irradiation(\n",
    "            orientation={'slope':90., 'azimuth':az},\n",
    "            layout=lout.fillna(0.)\n",
    "        ).squeeze().to_series()\n",
    "        for d, az in dirs.items()\n",
    "    }\n",
    "    irr_direct[name] = {\n",
    "        d: cutout.irradiation(\n",
    "            orientation={'slope':90., 'azimuth':az},\n",
    "            layout=lout.fillna(0.),\n",
    "            irradiation='direct'\n",
    "        ).squeeze().to_series()\n",
    "        for d, az in dirs.items()\n",
    "    }\n",
    "    irr_diffuse[name] = {\n",
    "        d: cutout.irradiation(\n",
    "            orientation={'slope':90., 'azimuth':az},\n",
    "            layout=lout.fillna(0.),\n",
    "            irradiation='diffuse'\n",
    "        ).squeeze().to_series()\n",
    "        for d, az in dirs.items()\n",
    "    }"
   ]
  },
  {
   "cell_type": "markdown",
   "metadata": {},
   "source": [
    "## Examine the results via plotting.\n",
    "\n",
    "Let's start with the ambient temperatures, as the plots are simpler.\n",
    "In the code below, you can use the `fsize` and `time_to_plot` values to\n",
    "tweak the size and timeframe of the plots.\n",
    "These settings are used for all the temperature and irradiation plots\n",
    "under this section.\n",
    "\n",
    "We recommend plotting results monthly, e.g. `time_to_plot=\"2011-01\"`,\n",
    "as it works nicely both for temperature and irradiation data.\n",
    "However, plotting the full year using `time_to_plot=\"2011\"` can help examine\n",
    "the big picture for temperature and irradiation,\n",
    "while daily resolution e.g. `time_to_plot=\"2011-01-01\"` can help examine\n",
    "the solar irradiation details for the different facing walls.\n",
    "**Note that the data uses UTC+0, while Finland generally uses UTC+2!**"
   ]
  },
  {
   "cell_type": "code",
   "execution_count": null,
   "metadata": {},
   "outputs": [],
   "source": [
    "# Define figure size and timeframe for plotting\n",
    "fsize = (15,6)\n",
    "time_to_plot = \"2011-01\"\n",
    "\n",
    "# Convert temperature dictionary to dataframe for easier plotting.\n",
    "temps = pd.DataFrame(temperature_dict)\n",
    "temps.loc[time_to_plot].plot(\n",
    "    figsize = fsize,\n",
    "    title=\"Ambient temperature comparison\",\n",
    "    ylabel=\"Ambient temperature [C]\",\n",
    "    xlabel=\"Datetime\"\n",
    ")"
   ]
  },
  {
   "cell_type": "markdown",
   "metadata": {},
   "source": [
    "Seems ok. The *Weighted* temperature is noticeably closer to the *Jyväskylä*\n",
    "temperature than the *Uniform* one, so there's clearly a good reason behind\n",
    "using the heating degree days from Jyväskylä.\n",
    "Though, as expected, the *Jyväskylä* temperature is noticeably more volatile\n",
    "than the averaged temperatures *Weighted* and *Uniform*.\n",
    "\n",
    "Let's look at the irradiation data next.\n",
    "First, let's simply examine the total irradiation on the South-facing wall\n",
    "for the different layouts."
   ]
  },
  {
   "cell_type": "code",
   "execution_count": null,
   "metadata": {},
   "outputs": [],
   "source": [
    "irrads = pd.DataFrame({\n",
    "    name: data['south'] for name, data in irr_total.items()\n",
    "})\n",
    "irrads.loc[time_to_plot].plot(\n",
    "    figsize=fsize,\n",
    "    title=\"Total irradiation on the south-facing wall\",\n",
    "    xlabel=\"Datetime\",\n",
    "    ylabel=\"Total irradiation [W/m2]\"\n",
    ")"
   ]
  },
  {
   "cell_type": "markdown",
   "metadata": {},
   "source": [
    "Unfortunately, here we can no longer see any meaningful correlation between\n",
    "the different layouts.\n",
    "Still, we can examine that the total, direct, and diffuse irradiation all\n",
    "behave as they should for the *Weighted* layout."
   ]
  },
  {
   "cell_type": "code",
   "execution_count": null,
   "metadata": {},
   "outputs": [],
   "source": [
    "tot_irrads = pd.DataFrame(irr_total['Weighted'])\n",
    "tot_irrads.loc[time_to_plot].plot(\n",
    "    figsize=fsize,\n",
    "    title=\"Weighted total irradiation on the walls\",\n",
    "    xlabel=\"Datetime\",\n",
    "    ylabel=\"Weighted total irradiation [W/m2]\"\n",
    ")"
   ]
  },
  {
   "cell_type": "code",
   "execution_count": null,
   "metadata": {},
   "outputs": [],
   "source": [
    "dir_irrads = pd.DataFrame(irr_direct['Weighted'])\n",
    "dir_irrads.loc[time_to_plot].plot(\n",
    "    figsize=fsize,\n",
    "    title=\"Weighted direct irradiation on the walls\",\n",
    "    xlabel=\"Datetime\",\n",
    "    ylabel=\"Weighted direct irradiation [W/m2]\"\n",
    ")"
   ]
  },
  {
   "cell_type": "code",
   "execution_count": null,
   "metadata": {},
   "outputs": [],
   "source": [
    "dif_irrads = pd.DataFrame(irr_diffuse['Weighted'])\n",
    "dif_irrads.loc[time_to_plot].plot(\n",
    "    figsize=fsize,\n",
    "    title=\"Weighted diffuse irradiation on the walls\",\n",
    "    xlabel=\"Datetime\",\n",
    "    ylabel=\"Weighted diffuse irradiation [W/m2]\"\n",
    ")"
   ]
  },
  {
   "cell_type": "markdown",
   "metadata": {},
   "source": [
    "Overall, the irradiation seems to behave as expected.\n",
    "Direct irradiation peaks at different times for the different walls:\n",
    "in the morning for the east-facing wall, around noon for the south-facing wall,\n",
    "in the evening for the west-facing wall, and in both the early morning and\n",
    "late evening for the north-facing wall in Summer.\n",
    "Meanwhile, there is no difference in the diffuse irradiation,\n",
    "as it doesn't matter how the wall is oriented."
   ]
  }
 ],
 "metadata": {
  "interpreter": {
   "hash": "7434f5d3405186255a76da38ed0d5a1cc2c26fc39fd66a8a33cdd9c1e700ee77"
  },
  "kernelspec": {
   "display_name": "Python 3.9.7 64-bit (conda)",
   "language": "python",
   "name": "python3"
  },
  "language_info": {
   "codemirror_mode": {
    "name": "ipython",
    "version": 3
   },
   "file_extension": ".py",
   "mimetype": "text/x-python",
   "name": "python",
   "nbconvert_exporter": "python",
   "pygments_lexer": "ipython3",
   "version": "3.9.7"
  },
  "orig_nbformat": 4
 },
 "nbformat": 4,
 "nbformat_minor": 2
}

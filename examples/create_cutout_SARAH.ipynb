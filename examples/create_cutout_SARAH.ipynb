{
 "cells": [
  {
   "cell_type": "markdown",
   "metadata": {},
   "source": [
    "# Creating a Cutout with the SARAH-2 dataset"
   ]
  },
  {
   "cell_type": "markdown",
   "metadata": {},
   "source": [
    "This walkthrough describes the process of creating a cutout using the [SARAH-2 dataset by EUMETSAT](https://wui.cmsaf.eu/safira/action/viewDoiDetails?acronym=SARAH_V002_01).\n",
    "\n",
    "The SARAH-2 dataset contains extensive information on solar radiation variables, like surface incoming direct radiation (SID) or surface incoming shortwave radiation (SIS).\n",
    "It serves as an addition to the ERA5 dataset and as such requires the `cdsapi` to be setup properly.\n",
    "\n",
    "> **Recommendation**\n",
    ">\n",
    "> This is a reduced version for cutout creation. Creating cutouts with ERA-5 is simpler and explained in more details.\n",
    "> We therefore recommend you have a look at [this example first](https://atlite.readthedocs.io/en/latest/examples/create_cutout.html).\n",
    "\n",
    "> **Note**:\n",
    ">\n",
    "> For creating a cutout from this dataset, you need to download large files and your computers memory needs to be able to handle these as well."
   ]
  },
  {
   "cell_type": "markdown",
   "metadata": {},
   "source": [
    "## Downloading the data set"
   ]
  },
  {
   "cell_type": "markdown",
   "metadata": {},
   "source": [
    "To download the dataset, head to the EUMETSTATs website (the link points to the current 2.1 edition)\n",
    "\n",
    "https://wui.cmsaf.eu/safira/action/viewDoiDetails?acronym=SARAH_V002_01 \n",
    "\n",
    "On the bottom, select the products you want to include in the cutout, i.e. for us:\n",
    "\n",
    "| variable | time span | time resolution | \n",
    "| --- | --- | --- |\n",
    "| Surface incoming direct radiation (SID) | 2013 | Instantaneous |\n",
    "| Surface incoming shortwave radiation (SIS) | 2013 | Instantaneous |\n",
    "\n",
    "* Add each product to your cart and register with the website.\n",
    "* Follow the instructions to activate your account, confirm your order and wait for the download to be ready.\n",
    "* You will be notified by email with the download instructions.\n",
    "* Download the ordered files of your order into a directory, e.g. `sarah-2`.\n",
    "* Extract the `tar` files (e.g. for linux systems `tar -xvf *` or with `7zip` for windows) into the same folder\n",
    "\n",
    "You are now ready to create cutouts using the SARAH-2 dataset."
   ]
  },
  {
   "cell_type": "markdown",
   "metadata": {},
   "source": [
    "## Specifying the cutout"
   ]
  },
  {
   "cell_type": "markdown",
   "metadata": {},
   "source": [
    "Import the package and set recommended logging settings:"
   ]
  },
  {
   "cell_type": "code",
   "execution_count": null,
   "metadata": {},
   "outputs": [],
   "source": [
    "import logging\n",
    "\n",
    "import atlite\n",
    "\n",
    "logging.basicConfig(level=logging.INFO)"
   ]
  },
  {
   "cell_type": "code",
   "execution_count": null,
   "metadata": {},
   "outputs": [],
   "source": [
    "cutout = atlite.Cutout(\n",
    "    path=\"western-europe-2011-01.nc\",\n",
    "    module=[\"sarah\", \"era5\"],\n",
    "    sarah_dir=\"/home/vres-climate/data/sarah_v2\",\n",
    "    x=slice(-13.6913, 1.7712),\n",
    "    y=slice(49.9096, 60.8479),\n",
    "    time=\"2013-01\",\n",
    "    chunks={\"time\": 100},\n",
    ")"
   ]
  },
  {
   "cell_type": "markdown",
   "metadata": {},
   "source": [
    "Let's see what the available features that is the available weather data variables are."
   ]
  },
  {
   "cell_type": "code",
   "execution_count": null,
   "metadata": {},
   "outputs": [],
   "source": [
    "cutout.available_features.to_frame()"
   ]
  },
  {
   "cell_type": "markdown",
   "metadata": {},
   "source": [
    "## Preparing the Cutout\n",
    "\n",
    "No matter which dataset you use, this is where all the work actually happens.\n",
    "This can be fast or take some or a lot of time and resources, among others depending on\n",
    "your computer ressources (especially memory for SARAH-2)."
   ]
  },
  {
   "cell_type": "code",
   "execution_count": null,
   "metadata": {},
   "outputs": [],
   "source": [
    "cutout.prepare()"
   ]
  },
  {
   "cell_type": "markdown",
   "metadata": {},
   "source": [
    "Querying the cutout gives us basic information on which data is contained and can already be used."
   ]
  },
  {
   "cell_type": "markdown",
   "metadata": {},
   "source": [
    "## Inspecting the Cutout"
   ]
  },
  {
   "cell_type": "code",
   "execution_count": null,
   "metadata": {},
   "outputs": [],
   "source": [
    "cutout  # basic information"
   ]
  },
  {
   "cell_type": "code",
   "execution_count": null,
   "metadata": {},
   "outputs": [],
   "source": [
    "cutout.data.attrs  # cutout meta data"
   ]
  },
  {
   "cell_type": "code",
   "execution_count": null,
   "metadata": {},
   "outputs": [],
   "source": [
    "cutout.prepared_features  # included weather variables"
   ]
  },
  {
   "cell_type": "code",
   "execution_count": null,
   "metadata": {},
   "outputs": [],
   "source": [
    "cutout.data  # access to underlying xarray data"
   ]
  }
 ],
 "metadata": {
  "kernelspec": {
   "display_name": "",
   "language": "python",
   "name": ""
  },
  "language_info": {
   "codemirror_mode": {
    "name": "ipython",
    "version": 3
   },
   "file_extension": ".py",
   "mimetype": "text/x-python",
   "name": "python",
   "nbconvert_exporter": "python",
   "pygments_lexer": "ipython3",
   "version": "3.8.5"
  }
 },
 "nbformat": 4,
 "nbformat_minor": 4
}
